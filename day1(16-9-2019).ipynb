{
 "cells": [
  {
   "cell_type": "markdown",
   "metadata": {},
   "source": [
    "#python programming and marking\n",
    "## python programming and marking\n",
    "### python programming and marking"
   ]
  },
  {
   "cell_type": "markdown",
   "metadata": {},
   "source": [
    "### python programming\n",
    "- point 1\n",
    "     -point11\n",
    "- point 2\n",
    "     -point21\n",
    "- point 3\n",
    "     -point 31"
   ]
  },
  {
   "cell_type": "markdown",
   "metadata": {},
   "source": [
    "* **point1**\n",
    "* *point1*\n",
    "* ***point1***\n"
   ]
  },
  {
   "cell_type": "markdown",
   "metadata": {},
   "source": [
    "<img src='pyth.png' />"
   ]
  },
  {
   "cell_type": "markdown",
   "metadata": {},
   "source": [
    "### adding the link to markdown\n",
    " * google site - [google].[1]\n",
    " [1]:http://www.google.com"
   ]
  },
  {
   "cell_type": "markdown",
   "metadata": {},
   "source": [
    "### python programming\n",
    "- python version3.7\n",
    "- functional programming\n",
    "- object oriented programming\n",
    "- scripting programming"
   ]
  },
  {
   "cell_type": "code",
   "execution_count": 2,
   "metadata": {},
   "outputs": [
    {
     "name": "stdout",
     "output_type": "stream",
     "text": [
      "hello gitam\n"
     ]
    }
   ],
   "source": [
    "print('hello gitam')"
   ]
  },
  {
   "cell_type": "code",
   "execution_count": 3,
   "metadata": {},
   "outputs": [
    {
     "name": "stdout",
     "output_type": "stream",
     "text": [
      "hello,gitam\n"
     ]
    }
   ],
   "source": [
    "print(\"hello,gitam\")"
   ]
  },
  {
   "cell_type": "code",
   "execution_count": 4,
   "metadata": {},
   "outputs": [
    {
     "name": "stdout",
     "output_type": "stream",
     "text": [
      "hello,gitam |||vizag\n"
     ]
    }
   ],
   "source": [
    "print('hello,gitam','|||',end='')\n",
    "print('vizag')"
   ]
  },
  {
   "cell_type": "markdown",
   "metadata": {},
   "source": [
    "### data types and data type conversion\n",
    "- int\n",
    "- float\n",
    "- string\n"
   ]
  },
  {
   "cell_type": "code",
   "execution_count": 10,
   "metadata": {},
   "outputs": [
    {
     "name": "stdout",
     "output_type": "stream",
     "text": [
      "<class 'int'>\n",
      "<class 'str'>\n",
      "100000000000000000\n",
      "python programming\n",
      "<class 'str'>\n",
      "<class 'float'>\n"
     ]
    }
   ],
   "source": [
    "a=100000000000000000\n",
    "s='python programming'\n",
    "s1='python'\n",
    "b=12.12\n",
    "print(type(a))\n",
    "print(type(s))\n",
    "print(a)\n",
    "print(s)\n",
    "print(type(s1))\n",
    "print(type(b))"
   ]
  },
  {
   "cell_type": "markdown",
   "metadata": {},
   "source": [
    "### data type conversions\n",
    "- int()\n",
    "- float()\n",
    "- str()"
   ]
  },
  {
   "cell_type": "code",
   "execution_count": 14,
   "metadata": {},
   "outputs": [
    {
     "name": "stdout",
     "output_type": "stream",
     "text": [
      "100<class 'int'>\n",
      "100<class 'str'>\n"
     ]
    }
   ],
   "source": [
    "a=100\n",
    "print(a,end='')\n",
    "print(type(a))\n",
    "s1=str(a)\n",
    "print(s1,end='')\n",
    "print(type(s1))"
   ]
  },
  {
   "cell_type": "code",
   "execution_count": 16,
   "metadata": {},
   "outputs": [
    {
     "name": "stdout",
     "output_type": "stream",
     "text": [
      "100<class 'str'>\n",
      "100.0<class 'float'>\n"
     ]
    }
   ],
   "source": [
    "s1=\"100\"\n",
    "print(s1,end=\"\")\n",
    "print(type(s1))# string convert to float\n",
    "a1=float(s1)\n",
    "print(a1,end=\"\")\n",
    "print(type(a1))"
   ]
  },
  {
   "cell_type": "code",
   "execution_count": 18,
   "metadata": {},
   "outputs": [
    {
     "name": "stdout",
     "output_type": "stream",
     "text": [
      "4\n"
     ]
    }
   ],
   "source": [
    "#digit count of a number\n",
    "a=1234\n",
    "print(len(str(a)))"
   ]
  },
  {
   "cell_type": "markdown",
   "metadata": {},
   "source": [
    "###input()function\n",
    "- read the input to the python program\n",
    "- reads the input into string format"
   ]
  },
  {
   "cell_type": "code",
   "execution_count": 19,
   "metadata": {},
   "outputs": [
    {
     "name": "stdout",
     "output_type": "stream",
     "text": [
      "enter your nameparam\n",
      "param <class 'str'>\n"
     ]
    }
   ],
   "source": [
    "s1=input('enter your name')\n",
    "print(s1,type(s1))"
   ]
  },
  {
   "cell_type": "code",
   "execution_count": 20,
   "metadata": {},
   "outputs": [
    {
     "name": "stdout",
     "output_type": "stream",
     "text": [
      "enter a number10\n",
      "10 <class 'int'>\n"
     ]
    }
   ],
   "source": [
    "a1=int(input('enter a number'))\n",
    "print(a1,type(a1))\n"
   ]
  },
  {
   "cell_type": "markdown",
   "metadata": {},
   "source": [
    "### operators\n",
    "- +addition\n",
    "- -subtraction\n",
    "- *multiplication\n",
    "- /division\n",
    "- %modulo division\n",
    "- division with no floatvalue\n",
    "- **power"
   ]
  },
  {
   "cell_type": "code",
   "execution_count": 22,
   "metadata": {},
   "outputs": [
    {
     "name": "stdout",
     "output_type": "stream",
     "text": [
      "3\n"
     ]
    }
   ],
   "source": [
    "print(10//3)\n"
   ]
  },
  {
   "cell_type": "code",
   "execution_count": 23,
   "metadata": {},
   "outputs": [
    {
     "name": "stdout",
     "output_type": "stream",
     "text": [
      "8.0\n"
     ]
    }
   ],
   "source": [
    "x=1+2**3/4+5\n",
    "print(x)"
   ]
  },
  {
   "cell_type": "markdown",
   "metadata": {},
   "source": [
    "###logical operators\n",
    "- and \n",
    "- or \n",
    "- not"
   ]
  },
  {
   "cell_type": "code",
   "execution_count": 25,
   "metadata": {},
   "outputs": [
    {
     "name": "stdout",
     "output_type": "stream",
     "text": [
      "True <class 'bool'>\n",
      "False <class 'bool'>\n"
     ]
    }
   ],
   "source": [
    "a=10\n",
    "b=(a>9) and (a>=10)\n",
    "print(b,type(b))\n",
    "b=(a>9) and (a>100)\n",
    "print(b,type(b))\n"
   ]
  },
  {
   "cell_type": "markdown",
   "metadata": {},
   "source": [
    "### control flow statements\n",
    "- conditional statement\n",
    "    - if else\n",
    "    \n",
    "- looping statement\n",
    "   - while\n",
    "   - for\n"
   ]
  },
  {
   "cell_type": "code",
   "execution_count": null,
   "metadata": {},
   "outputs": [],
   "source": []
  },
  {
   "cell_type": "code",
   "execution_count": null,
   "metadata": {},
   "outputs": [],
   "source": []
  },
  {
   "cell_type": "code",
   "execution_count": null,
   "metadata": {},
   "outputs": [],
   "source": []
  },
  {
   "cell_type": "code",
   "execution_count": null,
   "metadata": {},
   "outputs": [],
   "source": []
  },
  {
   "cell_type": "code",
   "execution_count": null,
   "metadata": {},
   "outputs": [],
   "source": []
  },
  {
   "cell_type": "code",
   "execution_count": null,
   "metadata": {},
   "outputs": [],
   "source": []
  },
  {
   "cell_type": "code",
   "execution_count": null,
   "metadata": {},
   "outputs": [],
   "source": []
  },
  {
   "cell_type": "code",
   "execution_count": null,
   "metadata": {},
   "outputs": [],
   "source": []
  },
  {
   "cell_type": "code",
   "execution_count": null,
   "metadata": {},
   "outputs": [],
   "source": []
  },
  {
   "cell_type": "code",
   "execution_count": null,
   "metadata": {},
   "outputs": [],
   "source": []
  },
  {
   "cell_type": "code",
   "execution_count": null,
   "metadata": {},
   "outputs": [],
   "source": []
  },
  {
   "cell_type": "code",
   "execution_count": null,
   "metadata": {},
   "outputs": [],
   "source": []
  },
  {
   "cell_type": "code",
   "execution_count": null,
   "metadata": {},
   "outputs": [],
   "source": []
  },
  {
   "cell_type": "code",
   "execution_count": null,
   "metadata": {},
   "outputs": [],
   "source": []
  },
  {
   "cell_type": "code",
   "execution_count": null,
   "metadata": {},
   "outputs": [],
   "source": []
  },
  {
   "cell_type": "code",
   "execution_count": null,
   "metadata": {},
   "outputs": [],
   "source": []
  },
  {
   "cell_type": "code",
   "execution_count": null,
   "metadata": {},
   "outputs": [],
   "source": []
  },
  {
   "cell_type": "code",
   "execution_count": null,
   "metadata": {},
   "outputs": [],
   "source": []
  }
 ],
 "metadata": {
  "kernelspec": {
   "display_name": "Python 3",
   "language": "python",
   "name": "python3"
  },
  "language_info": {
   "codemirror_mode": {
    "name": "ipython",
    "version": 3
   },
   "file_extension": ".py",
   "mimetype": "text/x-python",
   "name": "python",
   "nbconvert_exporter": "python",
   "pygments_lexer": "ipython3",
   "version": "3.7.3"
  }
 },
 "nbformat": 4,
 "nbformat_minor": 2
}
